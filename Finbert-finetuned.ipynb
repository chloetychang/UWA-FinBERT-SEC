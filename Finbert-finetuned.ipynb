{
 "cells": [
  {
   "cell_type": "markdown",
   "metadata": {
    "colab_type": "text",
    "id": "view-in-github"
   },
   "source": [
    "<a href=\"https://colab.research.google.com/github/Incredible88/FinBERT-FOMC/blob/main/Finbert-finetuned.ipynb\" target=\"_parent\"><img src=\"https://colab.research.google.com/assets/colab-badge.svg\" alt=\"Open In Colab\"/></a>"
   ]
  },
  {
   "cell_type": "markdown",
   "metadata": {
    "id": "bIth-FRgTAgc"
   },
   "source": [
    "# Get Started"
   ]
  },
  {
   "cell_type": "markdown",
   "metadata": {},
   "source": [
    "First, create the environment from the `environment.yml`:\n",
    "```bash\n",
    "conda env create -f environment.yml         # created using `conda env export > environment.yml`\n",
    "```\n",
    "By running this command in terminal...\n",
    "- A new Conda environmnet gets created (with the name defined in the YAML)\n",
    "- The packages as specified gets installed (both Conda and pip dependencies)\n",
    "- Compatible versions for your OS gets automatically resolved\n",
    "\n",
    "Once the packages are installed, run:\n",
    "```bash\n",
    "conda activate finbert-sec-env\n",
    "```\n"
   ]
  },
  {
   "cell_type": "code",
   "execution_count": null,
   "metadata": {
    "id": "VVsfLhxlVGZ1"
   },
   "outputs": [],
   "source": [
    "# Import different python libraries\n",
    "import pandas as pd\n",
    "import numpy as np\n",
    "from tqdm import tqdm\n",
    "import seaborn as sns\n",
    "import matplotlib.pyplot as plt"
   ]
  },
  {
   "cell_type": "markdown",
   "metadata": {},
   "source": [
    "To remove Jupyter Notebook output when committing to GitHub:\n",
    "```bash\n",
    "nbstripout --install\n",
    "pip install nbstripout\n",
    "```"
   ]
  },
  {
   "cell_type": "code",
   "execution_count": null,
   "metadata": {
    "id": "kwLLWbiC9XFd"
   },
   "outputs": [],
   "source": [
    "# !pip install chardet\n",
    "## chardet is used for detecting file encoding before reading raw bytes.\n",
    "## No need for chardet — Parquet stores text as UTF-8 internally.\n",
    "\n",
    "# import chardet\n",
    "# result = chardet.detect(parquet[\"text_pr\"])\n",
    "# encoding = result['encoding']\n",
    "\n",
    "## To find what encoding type of data\n",
    "# encoding"
   ]
  },
  {
   "cell_type": "markdown",
   "metadata": {
    "id": "-z5L4Dj1C5d1"
   },
   "source": [
    "# Load SEC Press Releases"
   ]
  },
  {
   "cell_type": "code",
   "execution_count": null,
   "metadata": {
    "id": "W6AdqswNU5UF"
   },
   "outputs": [],
   "source": [
    "# Read Parquet File `sec.parquet`\n",
    "parquet = pd.read_parquet('sec.parquet')\n",
    "parquet.head()\n",
    "\n",
    "# Focus on Sec Press Releases - `text_pr` column\n",
    "parquet_text = parquet[\"text_pr\"]\n",
    "parquet_text.head()"
   ]
  },
  {
   "cell_type": "code",
   "execution_count": null,
   "metadata": {
    "colab": {
     "base_uri": "https://localhost:8080/"
    },
    "id": "YeeYvcCclo3d",
    "outputId": "920b99a4-cfe4-4fdb-b531-da3940a01662"
   },
   "outputs": [],
   "source": [
    "parquet.info()"
   ]
  },
  {
   "cell_type": "markdown",
   "metadata": {
    "id": "03l5gT51-YgN"
   },
   "source": [
    "# Load Finbert "
   ]
  },
  {
   "cell_type": "code",
   "execution_count": null,
   "metadata": {
    "colab": {
     "base_uri": "https://localhost:8080/",
     "height": 113,
     "referenced_widgets": [
      "5bbb926ac63c460c9cc90945dcac5fab",
      "9ff868d575f34648bbd449ad780044d4",
      "658c8909bba942b49c327a2e68e27e09",
      "5814fe0c80fe4d0ba5b363158190c0e7",
      "a0e7f0a41b794310a2309cc95fd7885b",
      "5ef92059e39e472eb1cd9f8aeb5e85f5",
      "544d2ebdcd44427db806d3a8a0675d39",
      "76637f126e2c4c56a2a6414f7bbe0b0d",
      "ae91fc2a30974a2aae0856e73e7889e8",
      "8eaaa8b078bc4a50ac984ec3ab2dedd8",
      "77495defe68c477fa6915fd14486f057",
      "a5227ee4a7a64836932a94bdbd1393bb",
      "919b6e57863b4ec0ba0985f2af31eed4",
      "2a2a21b9231548e395f5f768f6a9c261",
      "6b5601a41dec40b5b01c817fb9108bf5",
      "188037af004844d3aa16cd68071e7044",
      "691167afafde44cd889a2f3d047e1921",
      "7d525bc8dd4047c0a14ce6eeed8fe8dc",
      "83696da299ae4e4c98f89cb6fa36fddf",
      "ad4fac097cd942a797481758ec75758a",
      "6216b2d4a6a44ee99fafb53e2a6c822f",
      "034a1a25c152429d95c25a3bda47c87b",
      "b121b22b84b24240a47ee8f796df5db5",
      "b1ff8d6e91e144739066899495f641da",
      "fd5e6c028bb249bca24866b72e4930e4",
      "5779b12c3c5e49b9a654c566f875ae55",
      "2b9b9138058b48d0b12474a62d358d89",
      "0e6ea53aed79460c9e297fe8aab1dd59",
      "27ccab27c4b84773a1f4c88beb455131",
      "b03967ce642746de9808dc03be5176eb",
      "c8add4a9e11e404fa26e5bb2fe32f555",
      "f4ef80419393456baf433f2a8c79b544",
      "178f4e16f6024bd1bdd4f54b617ac55a"
     ]
    },
    "id": "nCfMQTuo-K32",
    "outputId": "cf5e21dc-ecb9-4aab-e2d2-919d775cf569"
   },
   "outputs": [],
   "source": [
    "# pip install transformers==4.28.\n",
    "\n",
    "from transformers import BertTokenizer, BertForSequenceClassification, pipeline\n",
    "\n",
    "finbert = BertForSequenceClassification.from_pretrained('yiyanghkust/finbert-tone',num_labels=3)\n",
    "tokenizer = BertTokenizer.from_pretrained('yiyanghkust/finbert-tone')\n",
    "finbert = pipeline(\"text-classification\", model=finbert, tokenizer=tokenizer)"
   ]
  },
  {
   "cell_type": "markdown",
   "metadata": {
    "id": "ALYVVwywTILb"
   },
   "source": [
    "## Using spacy to split sentences"
   ]
  },
  {
   "cell_type": "code",
   "execution_count": null,
   "metadata": {
    "colab": {
     "base_uri": "https://localhost:8080/"
    },
    "id": "cV-OZ4ZKRn92",
    "outputId": "cdee226a-90f4-4509-8373-37f0ddbc3e63"
   },
   "outputs": [],
   "source": [
    "import spacy\n",
    "\n",
    "nlp = spacy.load('en_core_web_sm')\n",
    "\n",
    "sentences = []\n",
    "for text in tqdm(parquet_text):\n",
    "    doc = nlp(text)\n",
    "    for sent in doc.sents:\n",
    "        sentences.append(sent.text)\n"
   ]
  },
  {
   "cell_type": "markdown",
   "metadata": {
    "id": "kvFM1xaVfZhf"
   },
   "source": [
    "# Predict the original dataset\n"
   ]
  },
  {
   "cell_type": "code",
   "execution_count": null,
   "metadata": {
    "colab": {
     "base_uri": "https://localhost:8080/"
    },
    "id": "bLssnjc2DOol",
    "outputId": "0fd6b470-5b3d-4409-97c9-865baabed7c0"
   },
   "outputs": [],
   "source": [
    "nlp(parquet_text[1])"
   ]
  },
  {
   "cell_type": "code",
   "execution_count": null,
   "metadata": {
    "colab": {
     "base_uri": "https://localhost:8080/"
    },
    "id": "gb8aqB43_x2P",
    "outputId": "5da61a44-aa8e-4719-c149-4b3cb15e1301"
   },
   "outputs": [],
   "source": [
    "results = []\n",
    "for sentence in tqdm(sentences):\n",
    "    doc = finbert(sentence)\n",
    "    label = doc[0]['label']\n",
    "    score = doc[0]['score']\n",
    "    results.append({'sentence': sentence, 'label': label, 'score': score})\n",
    "\n",
    "df = pd.DataFrame(results)"
   ]
  },
  {
   "cell_type": "code",
   "execution_count": null,
   "metadata": {
    "colab": {
     "base_uri": "https://localhost:8080/",
     "height": 206
    },
    "id": "Hx-ZmSwAEKBu",
    "outputId": "2b5f2d75-8b63-48a6-9af0-19a749fcea71"
   },
   "outputs": [],
   "source": [
    "df.head()"
   ]
  },
  {
   "cell_type": "code",
   "execution_count": null,
   "metadata": {
    "id": "II75DqQOd3HR"
   },
   "outputs": [],
   "source": [
    "# Save the results\n",
    "df.to_csv('SEC_results.csv', index=False)"
   ]
  },
  {
   "cell_type": "markdown",
   "metadata": {
    "id": "skxuKkkOAFYk"
   },
   "source": [
    "# Text Simplification (sentiment focus)"
   ]
  },
  {
   "cell_type": "markdown",
   "metadata": {
    "id": "RKLbZe0KTWbV"
   },
   "source": [
    "**Note on Text Simplification**\n",
    "\n",
    "SEC enforcement press releases differ fundamentally from narrative policy texts like FOMC statements. They are shorter, more direct, and written in a formal legal register, typically featuring constructions such as “The SEC today charged…”, “Without admitting or denying…”, or “The firm agreed to pay…”. \n",
    "\n",
    "These sentences rarely use hedged or contrastive connectors (e.g., “although”, “but”, “while”) in ways that affect sentiment. Applying preprocessing steps like `remove_comma()` or `sentiment_focus()` could inadvertently strip legally significant clauses such as names, charges, or disclaimers, which contains essential context. \n",
    "\n",
    "As a result, such preprocessing would not enhance sentiment extraction accuracy and could, in fact, distort the legal tone central to SEC communications.\n",
    "\n",
    "\n",
    "---\n",
    "**Note on Sentiment Focus - Why `sentiment_focus()` Was Not Applied to SEC Press Releases**\n",
    "\n",
    "The `sentiment_focus()` filtering step, used in FOMC sentiment analysis, was omitted for SEC enforcement press releases. Unlike policy statements, nearly every sentence in an enforcement release carries informational or evaluative weight. Clauses that appear factual, such as “The SEC today charged…”, “Without admitting or denying…”, or “The firm agreed to pay…”, are legally meaningful and influence perceived tone and market response. Filtering them out could remove crucial signals about enforcement severity, cooperation, or settlement outcomes. \n",
    "\n",
    "Therefore, all sentences were retained, and sentiment was evaluated at the sentence level before aggregation, preserving the full legal and contextual nuance of SEC communications."
   ]
  },
  {
   "cell_type": "code",
   "execution_count": null,
   "metadata": {
    "id": "BfpVHopCru3F"
   },
   "outputs": [],
   "source": [
    "# import spacy\n",
    "\n",
    "# nlp = spacy.load(\"en_core_web_sm\")\n",
    "\n",
    "# def remove_comma(sentence):\n",
    "#     doc = nlp(sentence)\n",
    "#     indices = []\n",
    "#     for i, token in enumerate(doc):\n",
    "#         if token.dep_ == \"punct\":\n",
    "#             try:               \n",
    "#                 next_token = doc[i+1]\n",
    "#                 if next_token.dep_ == \"ROOT\" or next_token.dep_ == \"conj\":\n",
    "#                     indices.append(i)\n",
    "#             except IndexError:\n",
    "#                 pass\n",
    "#     if not indices:\n",
    "#         return sentence\n",
    "#     else:\n",
    "#         parts = []\n",
    "#         last_idx = 0\n",
    "#         for idx in indices:\n",
    "#             parts.append(doc[last_idx:idx].text.strip())\n",
    "\n",
    "#             last_idx = idx+1\n",
    "#         parts.append(doc[last_idx:].text.strip())\n",
    "#         return \" \".join(parts)\n",
    "    \n",
    "# # Example of remove_comma\n",
    "# remove_comma(\"The personal saving rate--while still slightly negative,moved up in October.\")\n"
   ]
  },
  {
   "cell_type": "code",
   "execution_count": null,
   "metadata": {
    "id": "DR75o9Iyjts1"
   },
   "outputs": [],
   "source": [
    "# def sentiment_focus(sentence):\n",
    "#     doc = nlp(sentence)\n",
    "#     focus = \"\"\n",
    "#     focus_changed = 1\n",
    "#     for token in doc[:-1]:\n",
    "#       if token.lower_ == \"but\":\n",
    "#           focus = doc[token.i + 1:]\n",
    "#           return str(focus).strip(),focus_changed\n",
    "\n",
    "#     for sent in doc.sents:\n",
    "#         sent_tokens = [token for token in sent]\n",
    "#         for token in sent_tokens:\n",
    "#             if token.lower_ == \"although\" or token.lower_ == \"though\":\n",
    "#                 try:\n",
    "#                     comma_index_back = [token1.i for token1 in doc[token.i:] if token1.text == ','][0]\n",
    "#                 except IndexError:\n",
    "#                     try:\n",
    "#                       comma_index_front = [token1.i for token1 in doc[:token.i] if token1.text == ','][-1]\n",
    "#                     except IndexError:\n",
    "#                       return str(doc).strip(),focus_changed\n",
    "#                     focus = doc[:comma_index_front].text\n",
    "#                     return str(focus).strip(),focus_changed\n",
    "#                 try:\n",
    "#                       comma_index_front = [token1.i for token1 in doc[:token.i] if token1.text == ','][-1]\n",
    "#                 except IndexError:\n",
    "#                   focus = doc[comma_index_back+1:].text\n",
    "#                   return str(focus).strip(),focus_changed\n",
    "#                 focus = doc[:comma_index_front].text+doc[comma_index_back:].text\n",
    "#                 return str(focus).strip(),focus_changed\n",
    "\n",
    "#     if doc[0].lower_ == \"while\":\n",
    "#       try:\n",
    "#         comma_index_back1 = [token2.i for token2 in doc if token2.text == ','][0]\n",
    "#       except IndexError:\n",
    "#         return str(doc).strip(),focus_changed\n",
    "#       focus = doc[comma_index_back1+1:].text\n",
    "#       return str(focus).strip(),focus_changed\n",
    "\n",
    "#     focus_changed = 0 \n",
    "#     return str(doc).strip(),focus_changed"
   ]
  },
  {
   "cell_type": "markdown",
   "metadata": {
    "id": "Y2EIvvLRjssI"
   },
   "source": [
    "# Fine-tuning FinBERT\n",
    "\n"
   ]
  },
  {
   "cell_type": "markdown",
   "metadata": {
    "id": "ehFEHBfpIBZ_"
   },
   "source": [
    "Import libraries needed in fine tuning FinBERT."
   ]
  },
  {
   "cell_type": "code",
   "execution_count": null,
   "metadata": {
    "colab": {
     "base_uri": "https://localhost:8080/"
    },
    "id": "ljKvG7SKXCXQ",
    "outputId": "5e078f64-e63d-4473-f494-3a537f239816"
   },
   "outputs": [],
   "source": [
    "!pip install transformers==4.28.1\n",
    "!pip install datasets\n",
    "from transformers import BertTokenizer, Trainer, BertForSequenceClassification, TrainingArguments\n",
    "import torch\n",
    "from datasets import Dataset\n",
    "from sklearn.model_selection import train_test_split\n",
    "from sklearn.metrics import accuracy_score\n",
    "import transformers\n",
    "torch.__version__, transformers.__version__"
   ]
  },
  {
   "cell_type": "code",
   "execution_count": null,
   "metadata": {
    "colab": {
     "base_uri": "https://localhost:8080/"
    },
    "id": "78PHuzrmnk1I",
    "outputId": "daefefc3-ef16-494b-fd40-72af974c85b7"
   },
   "outputs": [],
   "source": [
    "torch.cuda.is_available()"
   ]
  },
  {
   "cell_type": "code",
   "execution_count": null,
   "metadata": {},
   "outputs": [],
   "source": [
    "# Split CSV file into training and testing sets"
   ]
  },
  {
   "cell_type": "code",
   "execution_count": null,
   "metadata": {
    "colab": {
     "base_uri": "https://localhost:8080/",
     "height": 206
    },
    "id": "ZKPjUDyRnyr2",
    "outputId": "a8170aa8-28be-4940-f7e8-537ab004f2f6"
   },
   "outputs": [],
   "source": [
    "# load training data\n",
    "df = pd.read_csv('/content/training_data.csv') \n",
    "df.head()"
   ]
  },
  {
   "cell_type": "code",
   "execution_count": null,
   "metadata": {
    "colab": {
     "base_uri": "https://localhost:8080/",
     "height": 206
    },
    "id": "eVkAs1xjwMPt",
    "outputId": "99fdf5a7-8e1b-4ca6-d1b9-6928a029bd25"
   },
   "outputs": [],
   "source": [
    "# We only need new labels\n",
    "df = df[['sentence', 'label_new']].rename(columns={'label_new': 'label'})\n",
    "df.head()"
   ]
  },
  {
   "cell_type": "code",
   "execution_count": null,
   "metadata": {
    "colab": {
     "base_uri": "https://localhost:8080/",
     "height": 206
    },
    "id": "sBG_lYFswLWQ",
    "outputId": "24873005-1961-4875-a6e1-246f693e7fd2"
   },
   "outputs": [],
   "source": [
    "df['label'] = df['label'].replace({'Neutral': 0, 'Positive': 1, 'Negative': 2})\n",
    "df.head()"
   ]
  },
  {
   "cell_type": "markdown",
   "metadata": {
    "id": "EjlMx3uKn8_J"
   },
   "source": [
    "## Preparing training/validation/testing"
   ]
  },
  {
   "cell_type": "code",
   "execution_count": null,
   "metadata": {
    "colab": {
     "base_uri": "https://localhost:8080/"
    },
    "id": "RZC5xBpyn1x6",
    "outputId": "82b5f5fd-4b80-4691-d739-c9bbc1f8588c"
   },
   "outputs": [],
   "source": [
    "df_train, df_test, = train_test_split(df, stratify=df['label'], test_size=0.1, random_state=42)\n",
    "df_train, df_val = train_test_split(df_train, stratify=df_train['label'],test_size=0.1, random_state=42)\n",
    "print(df_train.shape, df_test.shape, df_val.shape)"
   ]
  },
  {
   "cell_type": "markdown",
   "metadata": {
    "id": "IP4qKnx3oLbU"
   },
   "source": [
    "## Load FinBERT pretrained model\n",
    "The pretrained FinBERT model path on Huggingface is https://huggingface.co/yiyanghkust/finbert-pretrain\n"
   ]
  },
  {
   "cell_type": "code",
   "execution_count": null,
   "metadata": {
    "colab": {
     "base_uri": "https://localhost:8080/"
    },
    "id": "fp0aotoEoGTp",
    "outputId": "6ee8f62a-39bf-4f81-d239-705255db83af"
   },
   "outputs": [],
   "source": [
    "model = BertForSequenceClassification.from_pretrained('yiyanghkust/finbert-pretrain',num_labels=3)\n",
    "tokenizer = BertTokenizer.from_pretrained('yiyanghkust/finbert-pretrain')"
   ]
  },
  {
   "cell_type": "markdown",
   "metadata": {
    "id": "71VMqpWZoZfv"
   },
   "source": [
    "## Prepare Dataset for Fine-tuning"
   ]
  },
  {
   "cell_type": "code",
   "execution_count": null,
   "metadata": {
    "colab": {
     "base_uri": "https://localhost:8080/",
     "height": 17,
     "referenced_widgets": [
      "38b80f9aa2ce40e1b26026946be90307",
      "fdc877d1daca42d38bece14ac5dab3b6",
      "4fa2d5d6d126454caf834d25dbe01cb6",
      "0982b0c46c86431fa0f1154e35355203",
      "cf634fc2ee614686b91ca09c1d3d2482",
      "8cbea45ea8884d7c8df04f07a7c5e94f",
      "71f4b45906a34a83a81dd52d70773f8b",
      "0401256239214bf9aa2d5c243620a9a8",
      "ad8b3697048d4346ba8bb0831741fe07",
      "fe86103bf7c64b7db70231406da4fae9",
      "f8962acececa4a58a0ea9cabcaba5316",
      "332cf5c9a1b6486e95ff57c4fab3e127",
      "07d4ead93a2248969756abfa53d14e38",
      "20e3da6d7da448d3a5263fefda49262f",
      "5952f0549d0c4bd9b7937c6a70070757",
      "446b294def83439fa4c4400514f0f896",
      "d72f997a224e48b38dca3b6d572a8ad9",
      "f85df4eb90b64fe1b2fa489a39d01077",
      "51643b7f752d4a71b7c8fff7cc9a2875",
      "4003cca74f8348bda591b97e3343c961",
      "5a9e98c9a0a64d01aac16d53ec7e1ccd",
      "44d4df0d318743b3a99099bc07f07c96",
      "cde34bdf347f4c3187c7abb29e0c5f1f",
      "c1b88f6afca84db3a15307a45dcc24f6",
      "dfa81b5cfb28472aac80a3c772b0cbf8",
      "21bc50c20ddd48bc834796e0fc70734d",
      "2032b496a8a34095a76889e1912d7495",
      "04761af990784dc9bed1cab00950f391",
      "de6e606ec01a48ac89d8c8f8b61182ab",
      "f09af7280c42472ebb36bf62af2745e6",
      "c5c4dd4f8b56401f803c9e86fdc202e1",
      "1deec8e9d03244cd8dc16ba5ff2cd928",
      "5a16e725eb384272b13f3bbf9266401e"
     ]
    },
    "id": "WyoYXFTRoYpH",
    "outputId": "12095d2e-61f9-462a-914f-e121a5f7a4fd"
   },
   "outputs": [],
   "source": [
    "dataset_train = Dataset.from_pandas(df_train)\n",
    "dataset_val = Dataset.from_pandas(df_val)\n",
    "dataset_test = Dataset.from_pandas(df_test)\n",
    "\n",
    "dataset_train = dataset_train.map(lambda e: tokenizer(e['sentence'], truncation=True, padding='max_length', max_length=128), batched=True)\n",
    "dataset_val = dataset_val.map(lambda e: tokenizer(e['sentence'], truncation=True, padding='max_length', max_length=128), batched=True)\n",
    "dataset_test = dataset_test.map(lambda e: tokenizer(e['sentence'], truncation=True, padding='max_length' , max_length=128), batched=True)\n",
    "\n",
    "dataset_train.set_format(type='torch', columns=['input_ids', 'token_type_ids', 'attention_mask', 'label'])\n",
    "dataset_val.set_format(type='torch', columns=['input_ids', 'token_type_ids', 'attention_mask', 'label'])\n",
    "dataset_test.set_format(type='torch', columns=['input_ids', 'token_type_ids', 'attention_mask', 'label'])"
   ]
  },
  {
   "cell_type": "markdown",
   "metadata": {
    "id": "9jTH1VW5odKr"
   },
   "source": [
    "## Define Training Options"
   ]
  },
  {
   "cell_type": "code",
   "execution_count": null,
   "metadata": {
    "colab": {
     "base_uri": "https://localhost:8080/",
     "height": 325
    },
    "id": "f9uf9Aqqofwt",
    "outputId": "b2d5e80e-bdbe-43fd-fd76-f449632e2e15"
   },
   "outputs": [],
   "source": [
    "def compute_metrics(eval_pred):\n",
    "    predictions, labels = eval_pred\n",
    "    predictions = np.argmax(predictions, axis=1)\n",
    "    return {'accuracy' : accuracy_score(predictions, labels)}\n",
    "\n",
    "args = TrainingArguments(\n",
    "        output_dir = 'temp/',\n",
    "        evaluation_strategy = 'epoch',\n",
    "        save_strategy = 'epoch',\n",
    "        learning_rate=2e-5,\n",
    "        per_device_train_batch_size=32,\n",
    "        per_device_eval_batch_size=32,\n",
    "        num_train_epochs=5,\n",
    "        weight_decay=0.005,\n",
    "        load_best_model_at_end=True,\n",
    "        metric_for_best_model='accuracy',\n",
    ")\n",
    "\n",
    "trainer = Trainer(\n",
    "        model=model,                        \n",
    "        args=args,                  \n",
    "        train_dataset=dataset_train,         \n",
    "        eval_dataset=dataset_val,           \n",
    "        compute_metrics=compute_metrics\n",
    ")\n",
    "\n",
    "trainer.train()  "
   ]
  },
  {
   "cell_type": "markdown",
   "metadata": {
    "id": "tXBHSn4RomuK"
   },
   "source": [
    "## Evaluate on Testing Set"
   ]
  },
  {
   "cell_type": "code",
   "execution_count": null,
   "metadata": {
    "colab": {
     "base_uri": "https://localhost:8080/",
     "height": 108
    },
    "id": "PR4SZ0X3olVF",
    "outputId": "dceaa86d-5880-47a9-aafb-ddd02e3fc8de"
   },
   "outputs": [],
   "source": [
    "model.eval()\n",
    "trainer.predict(dataset_test).metrics"
   ]
  },
  {
   "cell_type": "code",
   "execution_count": null,
   "metadata": {
    "colab": {
     "base_uri": "https://localhost:8080/"
    },
    "id": "dB9Olz34y5cF",
    "outputId": "cf1cf783-d779-42db-a079-6bd78b7a7168"
   },
   "outputs": [],
   "source": [
    "dataset_test"
   ]
  },
  {
   "cell_type": "markdown",
   "metadata": {
    "id": "NXitFyWooshx"
   },
   "source": [
    "## Save the fine-tuned model"
   ]
  },
  {
   "cell_type": "code",
   "execution_count": null,
   "metadata": {
    "id": "dnq_3AYKomDF"
   },
   "outputs": [],
   "source": [
    "trainer.save_model('finbert-sentiment/')"
   ]
  },
  {
   "cell_type": "markdown",
   "metadata": {},
   "source": [
    "# Evaluate on All Press Releases"
   ]
  },
  {
   "cell_type": "code",
   "execution_count": null,
   "metadata": {},
   "outputs": [],
   "source": []
  }
 ],
 "metadata": {
  "accelerator": "GPU",
  "colab": {
   "authorship_tag": "ABX9TyMqZ/zGiqhRn6CZVwzslpbB",
   "gpuType": "T4",
   "include_colab_link": true,
   "provenance": [],
   "toc_visible": true
  },
  "gpuClass": "standard",
  "kernelspec": {
   "display_name": "finbert-sec-env",
   "language": "python",
   "name": "python3"
  },
  "language_info": {
   "codemirror_mode": {
    "name": "ipython",
    "version": 3
   },
   "file_extension": ".py",
   "mimetype": "text/x-python",
   "name": "python",
   "nbconvert_exporter": "python",
   "pygments_lexer": "ipython3",
   "version": "3.12.11"
  }
 },
 "nbformat": 4,
 "nbformat_minor": 0
}
