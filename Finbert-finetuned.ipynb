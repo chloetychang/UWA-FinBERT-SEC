{
 "cells": [
  {
   "cell_type": "markdown",
   "metadata": {
    "colab_type": "text",
    "id": "view-in-github"
   },
   "source": [
    "<a href=\"https://colab.research.google.com/github/Incredible88/FinBERT-FOMC/blob/main/Finbert-finetuned.ipynb\" target=\"_parent\"><img src=\"https://colab.research.google.com/assets/colab-badge.svg\" alt=\"Open In Colab\"/></a>"
   ]
  },
  {
   "cell_type": "markdown",
   "metadata": {
    "id": "bIth-FRgTAgc"
   },
   "source": [
    "# Get Started"
   ]
  },
  {
   "cell_type": "code",
   "execution_count": null,
   "metadata": {
    "id": "VVsfLhxlVGZ1"
   },
   "outputs": [],
   "source": [
    "# Import different python libraries\n",
    "import pandas as pd\n",
    "import numpy as np\n",
    "from tqdm import tqdm\n",
    "import seaborn as sns\n",
    "import matplotlib.pyplot as plt"
   ]
  },
  {
   "cell_type": "code",
   "execution_count": null,
   "metadata": {
    "id": "kwLLWbiC9XFd"
   },
   "outputs": [],
   "source": [
    "# !pip install chardet\n",
    "## chardet is used for detecting file encoding before reading raw bytes.\n",
    "## No need for chardet — Parquet stores text as UTF-8 internally.\n",
    "\n",
    "# import chardet\n",
    "# result = chardet.detect(parquet[\"text_pr\"])\n",
    "# encoding = result['encoding']\n",
    "\n",
    "## To find what encoding type of data\n",
    "# encoding"
   ]
  },
  {
   "cell_type": "markdown",
   "metadata": {
    "id": "-z5L4Dj1C5d1"
   },
   "source": [
    "# Load SEC Press Releases"
   ]
  },
  {
   "cell_type": "code",
   "execution_count": null,
   "metadata": {
    "id": "W6AdqswNU5UF"
   },
   "outputs": [],
   "source": [
    "# Read Parquet File `sec.parquet`\n",
    "parquet = pd.read_parquet('sec.parquet')\n",
    "parquet.head()\n",
    "\n",
    "# Focus on Sec Press Releases - `text_pr` column\n",
    "parquet_text = parquet[\"text_pr\"]\n",
    "parquet_text.head()"
   ]
  },
  {
   "cell_type": "code",
   "execution_count": null,
   "metadata": {
    "colab": {
     "base_uri": "https://localhost:8080/"
    },
    "id": "YeeYvcCclo3d",
    "outputId": "920b99a4-cfe4-4fdb-b531-da3940a01662"
   },
   "outputs": [],
   "source": [
    "parquet.info()"
   ]
  },
  {
   "cell_type": "markdown",
   "metadata": {
    "id": "03l5gT51-YgN"
   },
   "source": [
    "# Load Finbert "
   ]
  },
  {
   "cell_type": "code",
   "execution_count": null,
   "metadata": {
    "colab": {
     "base_uri": "https://localhost:8080/",
     "height": 113,
     "referenced_widgets": [
      "5bbb926ac63c460c9cc90945dcac5fab",
      "9ff868d575f34648bbd449ad780044d4",
      "658c8909bba942b49c327a2e68e27e09",
      "5814fe0c80fe4d0ba5b363158190c0e7",
      "a0e7f0a41b794310a2309cc95fd7885b",
      "5ef92059e39e472eb1cd9f8aeb5e85f5",
      "544d2ebdcd44427db806d3a8a0675d39",
      "76637f126e2c4c56a2a6414f7bbe0b0d",
      "ae91fc2a30974a2aae0856e73e7889e8",
      "8eaaa8b078bc4a50ac984ec3ab2dedd8",
      "77495defe68c477fa6915fd14486f057",
      "a5227ee4a7a64836932a94bdbd1393bb",
      "919b6e57863b4ec0ba0985f2af31eed4",
      "2a2a21b9231548e395f5f768f6a9c261",
      "6b5601a41dec40b5b01c817fb9108bf5",
      "188037af004844d3aa16cd68071e7044",
      "691167afafde44cd889a2f3d047e1921",
      "7d525bc8dd4047c0a14ce6eeed8fe8dc",
      "83696da299ae4e4c98f89cb6fa36fddf",
      "ad4fac097cd942a797481758ec75758a",
      "6216b2d4a6a44ee99fafb53e2a6c822f",
      "034a1a25c152429d95c25a3bda47c87b",
      "b121b22b84b24240a47ee8f796df5db5",
      "b1ff8d6e91e144739066899495f641da",
      "fd5e6c028bb249bca24866b72e4930e4",
      "5779b12c3c5e49b9a654c566f875ae55",
      "2b9b9138058b48d0b12474a62d358d89",
      "0e6ea53aed79460c9e297fe8aab1dd59",
      "27ccab27c4b84773a1f4c88beb455131",
      "b03967ce642746de9808dc03be5176eb",
      "c8add4a9e11e404fa26e5bb2fe32f555",
      "f4ef80419393456baf433f2a8c79b544",
      "178f4e16f6024bd1bdd4f54b617ac55a"
     ]
    },
    "id": "nCfMQTuo-K32",
    "outputId": "cf5e21dc-ecb9-4aab-e2d2-919d775cf569"
   },
   "outputs": [],
   "source": [
    "# pip install transformers==4.28.\n",
    "\n",
    "from transformers import BertTokenizer, BertForSequenceClassification, pipeline\n",
    "\n",
    "finbert = BertForSequenceClassification.from_pretrained('yiyanghkust/finbert-tone',num_labels=3)\n",
    "tokenizer = BertTokenizer.from_pretrained('yiyanghkust/finbert-tone')\n",
    "finbert = pipeline(\"text-classification\", model=finbert, tokenizer=tokenizer)"
   ]
  },
  {
   "cell_type": "markdown",
   "metadata": {
    "id": "ALYVVwywTILb"
   },
   "source": [
    "## Using spacy to split sentences"
   ]
  },
  {
   "cell_type": "code",
   "execution_count": null,
   "metadata": {
    "colab": {
     "base_uri": "https://localhost:8080/"
    },
    "id": "cV-OZ4ZKRn92",
    "outputId": "cdee226a-90f4-4509-8373-37f0ddbc3e63"
   },
   "outputs": [],
   "source": [
    "import spacy\n",
    "\n",
    "nlp = spacy.load('en_core_web_sm')\n",
    "\n",
    "sentences = []\n",
    "for text in tqdm(text['sentence']):\n",
    "    doc = nlp(text)\n",
    "    for sent in doc.sents:\n",
    "        sentences.append(sent.text)\n"
   ]
  },
  {
   "cell_type": "markdown",
   "metadata": {
    "id": "kvFM1xaVfZhf"
   },
   "source": [
    "# Predict the original dataset\n"
   ]
  },
  {
   "cell_type": "code",
   "execution_count": null,
   "metadata": {
    "colab": {
     "base_uri": "https://localhost:8080/"
    },
    "id": "bLssnjc2DOol",
    "outputId": "0fd6b470-5b3d-4409-97c9-865baabed7c0"
   },
   "outputs": [],
   "source": [
    "nlp(sentences_list[1])"
   ]
  },
  {
   "cell_type": "code",
   "execution_count": null,
   "metadata": {
    "colab": {
     "base_uri": "https://localhost:8080/"
    },
    "id": "gb8aqB43_x2P",
    "outputId": "5da61a44-aa8e-4719-c149-4b3cb15e1301"
   },
   "outputs": [],
   "source": [
    "results = []\n",
    "for sentence in tqdm(sentences):\n",
    "    doc = finbert(sentence)\n",
    "    label = doc[0]['label']\n",
    "    score = doc[0]['score']\n",
    "    results.append({'sentence': sentence, 'label': label, 'score': score})\n",
    "\n",
    "df = pd.DataFrame(results)"
   ]
  },
  {
   "cell_type": "code",
   "execution_count": null,
   "metadata": {
    "colab": {
     "base_uri": "https://localhost:8080/",
     "height": 206
    },
    "id": "Hx-ZmSwAEKBu",
    "outputId": "2b5f2d75-8b63-48a6-9af0-19a749fcea71"
   },
   "outputs": [],
   "source": [
    "df.head()"
   ]
  },
  {
   "cell_type": "code",
   "execution_count": null,
   "metadata": {
    "id": "II75DqQOd3HR"
   },
   "outputs": [],
   "source": [
    "# Save the results\n",
    "df.to_csv('FOMC_results.csv', index=False)"
   ]
  },
  {
   "cell_type": "markdown",
   "metadata": {
    "id": "skxuKkkOAFYk"
   },
   "source": [
    "# Text Simplification (sentiment focus)"
   ]
  },
  {
   "cell_type": "markdown",
   "metadata": {
    "id": "RKLbZe0KTWbV"
   },
   "source": [
    "**Step1.**  \n",
    "To **remove comma** when two paragraph should be together. For Example: \n",
    " \n",
    "However, the apparent pickup in longer-term expectations, while worrisome, was relatively small  \n",
    "⇓  \n",
    "However, the apparent pickup in longer-term expectations, while worrisome was relatively small \n",
    "\n",
    "---\n",
    "**Step2.**  \n",
    "If there is a transition such as **although**, **though** and **while**, the focus will be on those paragraph except this one, and if there is a **but**, the focus will be on the paragraph containing the but. For example:\n",
    "\n",
    "**Although** some scattered signs of cooling of the housing sector had emerged, the pace of construction activity and sales remained brisk.  \n",
    "⇓  \n",
    "the pace of construction activity and sales remained brisk.\n",
    "\n",
    "Starts of new single-family homes dropped back somewhat in October from September's very strong pace, **but** permit issuance remained elevated.   \n",
    "⇓  \n",
    "permit issuance remained elevated.\n",
    "\n"
   ]
  },
  {
   "cell_type": "code",
   "execution_count": null,
   "metadata": {
    "id": "BfpVHopCru3F"
   },
   "outputs": [],
   "source": [
    "import spacy\n",
    "\n",
    "nlp = spacy.load(\"en_core_web_sm\")\n",
    "\n",
    "def remove_comma(sentence):\n",
    "    doc = nlp(sentence)\n",
    "    indices = []\n",
    "    for i, token in enumerate(doc):\n",
    "        if token.dep_ == \"punct\":\n",
    "            try:               \n",
    "                next_token = doc[i+1]\n",
    "                if next_token.dep_ == \"ROOT\" or next_token.dep_ == \"conj\":\n",
    "                    indices.append(i)\n",
    "            except IndexError:\n",
    "                pass\n",
    "    if not indices:\n",
    "        return sentence\n",
    "    else:\n",
    "        parts = []\n",
    "        last_idx = 0\n",
    "        for idx in indices:\n",
    "            parts.append(doc[last_idx:idx].text.strip())\n",
    "\n",
    "            last_idx = idx+1\n",
    "        parts.append(doc[last_idx:].text.strip())\n",
    "        return \" \".join(parts)\n"
   ]
  },
  {
   "cell_type": "code",
   "execution_count": null,
   "metadata": {
    "colab": {
     "base_uri": "https://localhost:8080/",
     "height": 36
    },
    "id": "LdmFNk_P-rHk",
    "outputId": "16eefd03-93d7-4401-d90f-9dbac6a0a1b2"
   },
   "outputs": [],
   "source": [
    "# Example of remove_comma\n",
    "remove_comma(\"The personal saving rate--while still slightly negative,moved up in October.\")"
   ]
  },
  {
   "cell_type": "code",
   "execution_count": null,
   "metadata": {
    "id": "DR75o9Iyjts1"
   },
   "outputs": [],
   "source": [
    "def sentiment_focus(sentence):\n",
    "    doc = nlp(sentence)\n",
    "    focus = \"\"\n",
    "    focus_changed = 1\n",
    "    for token in doc[:-1]:\n",
    "      if token.lower_ == \"but\":\n",
    "          focus = doc[token.i + 1:]\n",
    "          return str(focus).strip(),focus_changed\n",
    "\n",
    "    for sent in doc.sents:\n",
    "        sent_tokens = [token for token in sent]\n",
    "        for token in sent_tokens:\n",
    "            if token.lower_ == \"although\" or token.lower_ == \"though\":\n",
    "                try:\n",
    "                    comma_index_back = [token1.i for token1 in doc[token.i:] if token1.text == ','][0]\n",
    "                except IndexError:\n",
    "                    try:\n",
    "                      comma_index_front = [token1.i for token1 in doc[:token.i] if token1.text == ','][-1]\n",
    "                    except IndexError:\n",
    "                      return str(doc).strip(),focus_changed\n",
    "                    focus = doc[:comma_index_front].text\n",
    "                    return str(focus).strip(),focus_changed\n",
    "                try:\n",
    "                      comma_index_front = [token1.i for token1 in doc[:token.i] if token1.text == ','][-1]\n",
    "                except IndexError:\n",
    "                  focus = doc[comma_index_back+1:].text\n",
    "                  return str(focus).strip(),focus_changed\n",
    "                focus = doc[:comma_index_front].text+doc[comma_index_back:].text\n",
    "                return str(focus).strip(),focus_changed\n",
    "\n",
    "    if doc[0].lower_ == \"while\":\n",
    "      try:\n",
    "        comma_index_back1 = [token2.i for token2 in doc if token2.text == ','][0]\n",
    "      except IndexError:\n",
    "        return str(doc).strip(),focus_changed\n",
    "      focus = doc[comma_index_back1+1:].text\n",
    "      return str(focus).strip(),focus_changed\n",
    "\n",
    "    focus_changed = 0 \n",
    "    return str(doc).strip(),focus_changed"
   ]
  },
  {
   "cell_type": "markdown",
   "metadata": {
    "id": "lBmSb5WB2vgi"
   },
   "source": [
    "## The same sentence after focus processing"
   ]
  },
  {
   "cell_type": "markdown",
   "metadata": {
    "id": "q26a2Y9IWT-Y"
   },
   "source": [
    "Example: Actually works well"
   ]
  },
  {
   "cell_type": "code",
   "execution_count": null,
   "metadata": {
    "colab": {
     "base_uri": "https://localhost:8080/"
    },
    "id": "dd6odikY0iDp",
    "outputId": "a9e0e60a-fd22-472b-8193-8c86f74f9a48"
   },
   "outputs": [],
   "source": [
    "finbert(\"While light vehicle sales had slowed in the fall, consumer spending outside the auto sector appeared to have remained vigorous\")"
   ]
  },
  {
   "cell_type": "code",
   "execution_count": null,
   "metadata": {
    "colab": {
     "base_uri": "https://localhost:8080/"
    },
    "id": "NBbjcLVm0oqs",
    "outputId": "bcb73e6d-4410-42ea-de00-f3fde3b43abd"
   },
   "outputs": [],
   "source": [
    "finbert(\"consumer spending outside the auto sector appeared to have remained vigorous\")"
   ]
  },
  {
   "cell_type": "markdown",
   "metadata": {
    "id": "KwtY7Xy_wYsi"
   },
   "source": [
    "# Processing focus sentiment sentences"
   ]
  },
  {
   "cell_type": "code",
   "execution_count": null,
   "metadata": {
    "id": "TuwVK-ygIYnW"
   },
   "outputs": [],
   "source": [
    "# load original finbert results\n",
    "df = pd.read_csv('/content/FOMC_results.csv')"
   ]
  },
  {
   "cell_type": "code",
   "execution_count": null,
   "metadata": {
    "colab": {
     "base_uri": "https://localhost:8080/",
     "height": 49,
     "referenced_widgets": [
      "5122f83aacdd4dbf9eceb3eaade737e5",
      "98399b62d3784ee8b4f528697059aa59",
      "af8aa360a402492192ca833a5942c997",
      "5508cf199d3342b98f8ffdcd82b385c7",
      "fde25c50f0604581b5e2fe9d74491351",
      "28beff3d159a431495b5cdcca157a278",
      "7b30a42faa04432a8fa24060787eb3b9",
      "14d0d2bcc7584161b7c19d7204e88799",
      "295df19dc2594bd3b5735b14e52aa79e",
      "d2186e7f2c7847ac9324d2f76848fedb",
      "34db1d93e0f641c2ab27c18c1aba51d8"
     ]
    },
    "id": "l7DO4aA947gq",
    "outputId": "b6e9f822-fe5a-435a-ea0c-b8bee3d31008"
   },
   "outputs": [],
   "source": [
    "import spacy\n",
    "from tqdm.auto import tqdm\n",
    "tqdm.pandas()\n",
    "\n",
    "# Processing remove comma\n",
    "df[\"sentence_simple\"] = df[\"sentence\"].progress_apply(remove_comma)"
   ]
  },
  {
   "cell_type": "code",
   "execution_count": null,
   "metadata": {
    "colab": {
     "base_uri": "https://localhost:8080/",
     "height": 49,
     "referenced_widgets": [
      "e7449763d8b74052906e9400c7d63420",
      "63eb01ff7b544f35a98affe211328b26",
      "7e3101d2ed54459797cb7c331e658e7a",
      "296d5c929bc3420db7f707ab4ce4db2d",
      "1d8143a1629946ae96e4bd0d41292093",
      "1863c2cce7af430284025210574faed6",
      "1c0eb098e1324705a01a1413ce200ff4",
      "9678585243e443a0bccbd246f35af749",
      "3689e2dd15ee4d0cac1aa153c6b4e7c1",
      "5b20a38a5bf742c99b25cfceb9e49f8c",
      "680460524e8b42f4a631df29c5d75b9a"
     ]
    },
    "id": "3I3J-XVBMWwi",
    "outputId": "c491cfe7-0386-4f3b-a3b0-6776210ae06b"
   },
   "outputs": [],
   "source": [
    "# Processing sentiment focus\n",
    "df[['sentence_simple', 'focus_changed']] = df['sentence_simple'].progress_apply(sentiment_focus).apply(pd.Series)\n",
    "\n",
    "df['focus_ornot'] = df['focus_changed'].apply(lambda x: 1 if x else 0)\n",
    "\n",
    "df.drop('focus_changed', axis=1, inplace=True)"
   ]
  },
  {
   "cell_type": "markdown",
   "metadata": {
    "id": "6-WSa9ydD_1H"
   },
   "source": [
    "Now we get the sentiment focus sentemce from orginal sentence datasets"
   ]
  },
  {
   "cell_type": "code",
   "execution_count": null,
   "metadata": {
    "colab": {
     "base_uri": "https://localhost:8080/",
     "height": 206
    },
    "id": "rFAzLR9R9uZw",
    "outputId": "175d8e93-1366-4009-98c8-7b67cf59f23c"
   },
   "outputs": [],
   "source": [
    "df.head()"
   ]
  },
  {
   "cell_type": "markdown",
   "metadata": {
    "id": "E9dI4sb_SjKL"
   },
   "source": [
    "## Predict with Finbert(only select changed sentences)"
   ]
  },
  {
   "cell_type": "markdown",
   "metadata": {
    "id": "EU6baOsJEVeR"
   },
   "source": [
    "We only need complex sentences to fine tune FinBERT"
   ]
  },
  {
   "cell_type": "code",
   "execution_count": null,
   "metadata": {
    "id": "kR4qNOYZGTnR"
   },
   "outputs": [],
   "source": [
    "df_change = df.loc[df['focus_ornot'] == 1]"
   ]
  },
  {
   "cell_type": "code",
   "execution_count": null,
   "metadata": {
    "colab": {
     "base_uri": "https://localhost:8080/"
    },
    "id": "aFMrrJSvJSwN",
    "outputId": "c16159d7-41af-493e-85e2-450cb81c7049"
   },
   "outputs": [],
   "source": [
    "df_change.info()"
   ]
  },
  {
   "cell_type": "code",
   "execution_count": null,
   "metadata": {
    "colab": {
     "base_uri": "https://localhost:8080/",
     "height": 206
    },
    "id": "4lYgSJ_OJUke",
    "outputId": "563ba33f-631e-4de4-a681-acfd180f4d18"
   },
   "outputs": [],
   "source": [
    "df_change.head()"
   ]
  },
  {
   "cell_type": "markdown",
   "metadata": {
    "id": "6sWbYAdfEs3J"
   },
   "source": [
    "We need new labels via FinBERT to predict with sentiment focus sentences for those complex sentences"
   ]
  },
  {
   "cell_type": "code",
   "execution_count": null,
   "metadata": {
    "colab": {
     "base_uri": "https://localhost:8080/",
     "height": 467,
     "referenced_widgets": [
      "f2f88eb113854bcfac2a5310d01a2562",
      "62c917e379484e7bb61bf2048d37bc95",
      "cea46c4ab4d245f7b29e75c3b8ae2da5",
      "f5058c34334c437cb35b27a45785d30f",
      "ba8019e2ad034cc0871b32aa1e6591a8",
      "3c3f8405c12c4b259e829e589968fbbb",
      "31a817af0ced432db617ec0e02065584",
      "d681e3abc9114eb0bca982c954a6e7f7",
      "a403e287617e447cbba5f8786512a5e9",
      "6384d81878134114aebecb36535d8e0d",
      "8b539a60c0b64712ba7fdbd3164ee0eb"
     ]
    },
    "id": "BFRTesX8nWjV",
    "outputId": "39906127-27c2-43a6-f7bb-29d1199adfba"
   },
   "outputs": [],
   "source": [
    "tqdm.pandas()\n",
    "\n",
    "df_change['finbert_result'] = df_change['sentence_simple'].progress_apply(lambda x: finbert(x))\n",
    "\n",
    "df_change['label_new'] = df_change['finbert_result'].apply(lambda x: x[0]['label'])\n",
    "df_change['score_new'] = df_change['finbert_result'].apply(lambda x: x[0]['score'])\n",
    "\n",
    "df_change.drop('finbert_result', axis=1, inplace=True)"
   ]
  },
  {
   "cell_type": "code",
   "execution_count": null,
   "metadata": {
    "colab": {
     "base_uri": "https://localhost:8080/",
     "height": 206
    },
    "id": "W1NWyLDynYOf",
    "outputId": "da7ddcab-5f2c-4b10-cf75-e5a68cc24756"
   },
   "outputs": [],
   "source": [
    "df_change.head()"
   ]
  },
  {
   "cell_type": "code",
   "execution_count": null,
   "metadata": {
    "id": "pa6b_yOmgQEw"
   },
   "outputs": [],
   "source": [
    "# Save training data\n",
    "df_change.to_csv('training_data.csv',index = False)"
   ]
  },
  {
   "cell_type": "markdown",
   "metadata": {
    "id": "Y2EIvvLRjssI"
   },
   "source": [
    "# Fine tuning FinBERT\n",
    "\n"
   ]
  },
  {
   "cell_type": "markdown",
   "metadata": {
    "id": "ehFEHBfpIBZ_"
   },
   "source": [
    "Import many liberies needed in fine tuning FinBERT"
   ]
  },
  {
   "cell_type": "code",
   "execution_count": null,
   "metadata": {
    "colab": {
     "base_uri": "https://localhost:8080/"
    },
    "id": "ljKvG7SKXCXQ",
    "outputId": "5e078f64-e63d-4473-f494-3a537f239816"
   },
   "outputs": [],
   "source": [
    "!pip install transformers==4.28.1\n",
    "!pip install datasets\n",
    "from transformers import BertTokenizer, Trainer, BertForSequenceClassification, TrainingArguments\n",
    "import torch\n",
    "from datasets import Dataset\n",
    "from sklearn.model_selection import train_test_split\n",
    "from sklearn.metrics import accuracy_score\n",
    "import transformers\n",
    "torch.__version__, transformers.__version__"
   ]
  },
  {
   "cell_type": "code",
   "execution_count": null,
   "metadata": {
    "colab": {
     "base_uri": "https://localhost:8080/"
    },
    "id": "78PHuzrmnk1I",
    "outputId": "daefefc3-ef16-494b-fd40-72af974c85b7"
   },
   "outputs": [],
   "source": [
    "torch.cuda.is_available()"
   ]
  },
  {
   "cell_type": "code",
   "execution_count": null,
   "metadata": {
    "colab": {
     "base_uri": "https://localhost:8080/",
     "height": 206
    },
    "id": "ZKPjUDyRnyr2",
    "outputId": "a8170aa8-28be-4940-f7e8-537ab004f2f6"
   },
   "outputs": [],
   "source": [
    "# load training data\n",
    "df = pd.read_csv('/content/training_data.csv') \n",
    "df.head()"
   ]
  },
  {
   "cell_type": "code",
   "execution_count": null,
   "metadata": {
    "colab": {
     "base_uri": "https://localhost:8080/",
     "height": 206
    },
    "id": "eVkAs1xjwMPt",
    "outputId": "99fdf5a7-8e1b-4ca6-d1b9-6928a029bd25"
   },
   "outputs": [],
   "source": [
    "# We only need new labels\n",
    "df = df[['sentence', 'label_new']].rename(columns={'label_new': 'label'})\n",
    "df.head()"
   ]
  },
  {
   "cell_type": "code",
   "execution_count": null,
   "metadata": {
    "colab": {
     "base_uri": "https://localhost:8080/",
     "height": 206
    },
    "id": "sBG_lYFswLWQ",
    "outputId": "24873005-1961-4875-a6e1-246f693e7fd2"
   },
   "outputs": [],
   "source": [
    "df['label'] = df['label'].replace({'Neutral': 0, 'Positive': 1, 'Negative': 2})\n",
    "df.head()"
   ]
  },
  {
   "cell_type": "markdown",
   "metadata": {
    "id": "EjlMx3uKn8_J"
   },
   "source": [
    "## preparing training/validation/testing"
   ]
  },
  {
   "cell_type": "code",
   "execution_count": null,
   "metadata": {
    "colab": {
     "base_uri": "https://localhost:8080/"
    },
    "id": "RZC5xBpyn1x6",
    "outputId": "82b5f5fd-4b80-4691-d739-c9bbc1f8588c"
   },
   "outputs": [],
   "source": [
    "df_train, df_test, = train_test_split(df, stratify=df['label'], test_size=0.1, random_state=42)\n",
    "df_train, df_val = train_test_split(df_train, stratify=df_train['label'],test_size=0.1, random_state=42)\n",
    "print(df_train.shape, df_test.shape, df_val.shape)"
   ]
  },
  {
   "cell_type": "markdown",
   "metadata": {
    "id": "IP4qKnx3oLbU"
   },
   "source": [
    "## load FinBERT pretrained model\n",
    "The pretrained FinBERT model path on Huggingface is https://huggingface.co/yiyanghkust/finbert-pretrain\n"
   ]
  },
  {
   "cell_type": "code",
   "execution_count": null,
   "metadata": {
    "colab": {
     "base_uri": "https://localhost:8080/"
    },
    "id": "fp0aotoEoGTp",
    "outputId": "6ee8f62a-39bf-4f81-d239-705255db83af"
   },
   "outputs": [],
   "source": [
    "model = BertForSequenceClassification.from_pretrained('yiyanghkust/finbert-pretrain',num_labels=3)\n",
    "tokenizer = BertTokenizer.from_pretrained('yiyanghkust/finbert-pretrain')"
   ]
  },
  {
   "cell_type": "markdown",
   "metadata": {
    "id": "71VMqpWZoZfv"
   },
   "source": [
    "## prepare dataset for fine-tuning"
   ]
  },
  {
   "cell_type": "code",
   "execution_count": null,
   "metadata": {
    "colab": {
     "base_uri": "https://localhost:8080/",
     "height": 17,
     "referenced_widgets": [
      "38b80f9aa2ce40e1b26026946be90307",
      "fdc877d1daca42d38bece14ac5dab3b6",
      "4fa2d5d6d126454caf834d25dbe01cb6",
      "0982b0c46c86431fa0f1154e35355203",
      "cf634fc2ee614686b91ca09c1d3d2482",
      "8cbea45ea8884d7c8df04f07a7c5e94f",
      "71f4b45906a34a83a81dd52d70773f8b",
      "0401256239214bf9aa2d5c243620a9a8",
      "ad8b3697048d4346ba8bb0831741fe07",
      "fe86103bf7c64b7db70231406da4fae9",
      "f8962acececa4a58a0ea9cabcaba5316",
      "332cf5c9a1b6486e95ff57c4fab3e127",
      "07d4ead93a2248969756abfa53d14e38",
      "20e3da6d7da448d3a5263fefda49262f",
      "5952f0549d0c4bd9b7937c6a70070757",
      "446b294def83439fa4c4400514f0f896",
      "d72f997a224e48b38dca3b6d572a8ad9",
      "f85df4eb90b64fe1b2fa489a39d01077",
      "51643b7f752d4a71b7c8fff7cc9a2875",
      "4003cca74f8348bda591b97e3343c961",
      "5a9e98c9a0a64d01aac16d53ec7e1ccd",
      "44d4df0d318743b3a99099bc07f07c96",
      "cde34bdf347f4c3187c7abb29e0c5f1f",
      "c1b88f6afca84db3a15307a45dcc24f6",
      "dfa81b5cfb28472aac80a3c772b0cbf8",
      "21bc50c20ddd48bc834796e0fc70734d",
      "2032b496a8a34095a76889e1912d7495",
      "04761af990784dc9bed1cab00950f391",
      "de6e606ec01a48ac89d8c8f8b61182ab",
      "f09af7280c42472ebb36bf62af2745e6",
      "c5c4dd4f8b56401f803c9e86fdc202e1",
      "1deec8e9d03244cd8dc16ba5ff2cd928",
      "5a16e725eb384272b13f3bbf9266401e"
     ]
    },
    "id": "WyoYXFTRoYpH",
    "outputId": "12095d2e-61f9-462a-914f-e121a5f7a4fd"
   },
   "outputs": [],
   "source": [
    "dataset_train = Dataset.from_pandas(df_train)\n",
    "dataset_val = Dataset.from_pandas(df_val)\n",
    "dataset_test = Dataset.from_pandas(df_test)\n",
    "\n",
    "dataset_train = dataset_train.map(lambda e: tokenizer(e['sentence'], truncation=True, padding='max_length', max_length=128), batched=True)\n",
    "dataset_val = dataset_val.map(lambda e: tokenizer(e['sentence'], truncation=True, padding='max_length', max_length=128), batched=True)\n",
    "dataset_test = dataset_test.map(lambda e: tokenizer(e['sentence'], truncation=True, padding='max_length' , max_length=128), batched=True)\n",
    "\n",
    "dataset_train.set_format(type='torch', columns=['input_ids', 'token_type_ids', 'attention_mask', 'label'])\n",
    "dataset_val.set_format(type='torch', columns=['input_ids', 'token_type_ids', 'attention_mask', 'label'])\n",
    "dataset_test.set_format(type='torch', columns=['input_ids', 'token_type_ids', 'attention_mask', 'label'])"
   ]
  },
  {
   "cell_type": "markdown",
   "metadata": {
    "id": "9jTH1VW5odKr"
   },
   "source": [
    "## define training options"
   ]
  },
  {
   "cell_type": "code",
   "execution_count": null,
   "metadata": {
    "colab": {
     "base_uri": "https://localhost:8080/",
     "height": 325
    },
    "id": "f9uf9Aqqofwt",
    "outputId": "b2d5e80e-bdbe-43fd-fd76-f449632e2e15"
   },
   "outputs": [],
   "source": [
    "def compute_metrics(eval_pred):\n",
    "    predictions, labels = eval_pred\n",
    "    predictions = np.argmax(predictions, axis=1)\n",
    "    return {'accuracy' : accuracy_score(predictions, labels)}\n",
    "\n",
    "args = TrainingArguments(\n",
    "        output_dir = 'temp/',\n",
    "        evaluation_strategy = 'epoch',\n",
    "        save_strategy = 'epoch',\n",
    "        learning_rate=2e-5,\n",
    "        per_device_train_batch_size=32,\n",
    "        per_device_eval_batch_size=32,\n",
    "        num_train_epochs=5,\n",
    "        weight_decay=0.005,\n",
    "        load_best_model_at_end=True,\n",
    "        metric_for_best_model='accuracy',\n",
    ")\n",
    "\n",
    "trainer = Trainer(\n",
    "        model=model,                        \n",
    "        args=args,                  \n",
    "        train_dataset=dataset_train,         \n",
    "        eval_dataset=dataset_val,           \n",
    "        compute_metrics=compute_metrics\n",
    ")\n",
    "\n",
    "trainer.train()  "
   ]
  },
  {
   "cell_type": "markdown",
   "metadata": {
    "id": "tXBHSn4RomuK"
   },
   "source": [
    "## evaluate on testing set"
   ]
  },
  {
   "cell_type": "code",
   "execution_count": null,
   "metadata": {
    "colab": {
     "base_uri": "https://localhost:8080/",
     "height": 108
    },
    "id": "PR4SZ0X3olVF",
    "outputId": "dceaa86d-5880-47a9-aafb-ddd02e3fc8de"
   },
   "outputs": [],
   "source": [
    "model.eval()\n",
    "trainer.predict(dataset_test).metrics"
   ]
  },
  {
   "cell_type": "code",
   "execution_count": null,
   "metadata": {
    "colab": {
     "base_uri": "https://localhost:8080/"
    },
    "id": "dB9Olz34y5cF",
    "outputId": "cf1cf783-d779-42db-a079-6bd78b7a7168"
   },
   "outputs": [],
   "source": [
    "dataset_test"
   ]
  },
  {
   "cell_type": "markdown",
   "metadata": {
    "id": "NXitFyWooshx"
   },
   "source": [
    "## save the fine-tuned model"
   ]
  },
  {
   "cell_type": "code",
   "execution_count": null,
   "metadata": {
    "id": "dnq_3AYKomDF"
   },
   "outputs": [],
   "source": [
    "trainer.save_model('finbert-sentiment/')"
   ]
  },
  {
   "cell_type": "markdown",
   "metadata": {
    "id": "7mmrfPiE0mj9"
   },
   "source": [
    "# Evaluate model"
   ]
  },
  {
   "cell_type": "markdown",
   "metadata": {
    "id": "QKXClPMrIltC"
   },
   "source": [
    "Load manual labeled testing data "
   ]
  },
  {
   "cell_type": "code",
   "execution_count": null,
   "metadata": {
    "id": "E8R1L3Xi0l-M"
   },
   "outputs": [],
   "source": [
    "data = pd.read_csv('https://raw.githubusercontent.com/Incredible88/FinBERT-FOMC/main/data/dataset_label.csv')"
   ]
  },
  {
   "cell_type": "code",
   "execution_count": null,
   "metadata": {
    "colab": {
     "base_uri": "https://localhost:8080/"
    },
    "id": "5oAQ_K332lon",
    "outputId": "465c64e9-a0a1-4287-cfe3-464b7c9a70e8"
   },
   "outputs": [],
   "source": [
    "data.info()"
   ]
  },
  {
   "cell_type": "code",
   "execution_count": null,
   "metadata": {
    "colab": {
     "base_uri": "https://localhost:8080/",
     "height": 206
    },
    "id": "gULPQqkwx4nB",
    "outputId": "cac524db-4592-4fec-e67c-dc2daecd7676"
   },
   "outputs": [],
   "source": [
    "data = data.iloc[:1375,: ]\n",
    "data.head()"
   ]
  },
  {
   "cell_type": "code",
   "execution_count": null,
   "metadata": {
    "id": "PxHe_Pfm0zyT"
   },
   "outputs": [],
   "source": [
    "data = data[['sentence','Ziwei']].rename(columns={'Ziwei': 'label'})"
   ]
  },
  {
   "cell_type": "code",
   "execution_count": null,
   "metadata": {
    "id": "jN4RkJsm1PTR"
   },
   "outputs": [],
   "source": [
    "data['label'] = data['label'].replace({'neutral': 0, 'positive': 1, 'negative': 2})"
   ]
  },
  {
   "cell_type": "code",
   "execution_count": null,
   "metadata": {
    "colab": {
     "base_uri": "https://localhost:8080/",
     "height": 17,
     "referenced_widgets": [
      "060b4683c48445f69915db53fc7e4e3b",
      "32776ccdff254f2096142acb4ed614a4",
      "47fd015e65c64408a443ee85985d5816",
      "f74e0953683646f0acd75dbf047cbcb4",
      "f1306fab51324b7688df833c3514855f",
      "4892abdc2c0c4f8292347f5dfd2d8e7b",
      "52c297af5de54940b2d7b3d5b2029939",
      "bb7c6d04ae6947dab825a8f05cc14199",
      "d23c08f625494cd59488f3fb45ae210c",
      "d8e7c51cc474431fb5ed3ec88a452a45",
      "c71bb493efd4415e95201a80ac8153cf"
     ]
    },
    "id": "lSka7aVd1U8R",
    "outputId": "f1a9fade-0ac8-4270-c474-e43f6b21af09"
   },
   "outputs": [],
   "source": [
    "data_test = Dataset.from_pandas(data)\n",
    "\n",
    "data_test = data_test.map(lambda e: tokenizer(e['sentence'], truncation=True, padding='max_length' , max_length=128), batched=True)\n",
    "\n",
    "data_test.set_format(type='torch', columns=['input_ids', 'token_type_ids', 'attention_mask', 'label'])"
   ]
  },
  {
   "cell_type": "markdown",
   "metadata": {
    "id": "uOEkCJ8JZEN_"
   },
   "source": [
    "## Accuracy with manual labels\n",
    "\n",
    "\n",
    "\n",
    "\n",
    "\n"
   ]
  },
  {
   "cell_type": "code",
   "execution_count": null,
   "metadata": {
    "colab": {
     "base_uri": "https://localhost:8080/",
     "height": 108
    },
    "id": "3Y_4OM0D1pcx",
    "outputId": "43aeb9e8-91df-4093-8a9b-3bfc1b1573ff"
   },
   "outputs": [],
   "source": [
    "model.eval()\n",
    "pre = trainer.predict(data_test).predictions\n",
    "trainer.predict(data_test).metrics"
   ]
  },
  {
   "cell_type": "code",
   "execution_count": null,
   "metadata": {
    "id": "s6hGDfY7IRlh"
   },
   "outputs": [],
   "source": [
    "labels = np.argmax(pre, axis=1)\n",
    "data['label_pre'] = labels"
   ]
  },
  {
   "cell_type": "code",
   "execution_count": null,
   "metadata": {
    "colab": {
     "base_uri": "https://localhost:8080/",
     "height": 206
    },
    "id": "QpYvP_jgvJNa",
    "outputId": "1ed7f599-ca91-4319-e562-deae0763f776"
   },
   "outputs": [],
   "source": [
    "data.head()"
   ]
  },
  {
   "cell_type": "code",
   "execution_count": null,
   "metadata": {
    "colab": {
     "base_uri": "https://localhost:8080/",
     "height": 49,
     "referenced_widgets": [
      "886f127004fe4dc095772be802cb3ef1",
      "b83e772bdfa74a1cb2490f4546aa77ba",
      "237052ace24c475bb21153bcf67edb22",
      "a8bc1a4bdecd4c8b8578b0f85feac262",
      "632158d97b9e4248a9e58d26d9874325",
      "caf57d0424e249fd99a632dced1750f9",
      "5944308938ab4ec5821e40a3d9d4e5fb",
      "f0713b1045fb4b65877c03d9cc4557b7",
      "ad45a41583ad4043bedab0fe2db702c4",
      "028a8996904d401da89a52a73c784916",
      "e35e0d0dd69b4233a96d6e77ce33b5a1"
     ]
    },
    "id": "Dcry4I552aOz",
    "outputId": "60593225-d356-4f4a-8789-0fbb15cc78d7"
   },
   "outputs": [],
   "source": [
    "tqdm.pandas()\n",
    "\n",
    "data['finbert_result'] = data['sentence'].progress_apply(lambda x: finbert(x))\n",
    "\n",
    "data['label_new'] = data['finbert_result'].apply(lambda x: x[0]['label'])\n",
    "\n",
    "data.drop('finbert_result', axis=1, inplace=True)"
   ]
  },
  {
   "cell_type": "code",
   "execution_count": null,
   "metadata": {
    "id": "qrQB9dolwb16"
   },
   "outputs": [],
   "source": [
    "data['label_pre'] = data['label_pre'].replace({0:'Neutral',  1: 'Positive', 2:'Negative'})"
   ]
  },
  {
   "cell_type": "markdown",
   "metadata": {
    "id": "qN9R_cLaZLCr"
   },
   "source": [
    "## Original Finbert results"
   ]
  },
  {
   "cell_type": "code",
   "execution_count": null,
   "metadata": {
    "colab": {
     "base_uri": "https://localhost:8080/"
    },
    "id": "tCrvC0kt59Fo",
    "outputId": "b78c2222-6100-4f64-e045-7e4d949eb0c2"
   },
   "outputs": [],
   "source": [
    "data['label_new'] = data['label_new'].replace({'Neutral': 0, 'Positive': 1, 'Negative': 2})\n",
    "(data['label'] == data['label_new']).sum() / len(data)"
   ]
  },
  {
   "cell_type": "markdown",
   "metadata": {
    "id": "8j-jVz6yZZZW"
   },
   "source": [
    "## focus sentiment preprocessing data as comparing"
   ]
  },
  {
   "cell_type": "code",
   "execution_count": null,
   "metadata": {
    "colab": {
     "base_uri": "https://localhost:8080/",
     "height": 81,
     "referenced_widgets": [
      "836c4f673dbe4c2aa4a768142d0093d4",
      "cbfce5a266c942a6a5fd5aba8ecbf23d",
      "f1e38819e9f049efac2da0b9c4e9cfb4",
      "bf403f0c18d9495c96525c3b78aa0bb9",
      "f9a90b0f6231499291df52813091740f",
      "521224b9d96645708c5fb68332e22ef4",
      "69f97b66312542ce8d08ce37460c7f11",
      "aa8fece309d247e09dfa89c93a439362",
      "78c3afa7f19e4e72b10fd49a6dfc9ddd",
      "d41f9e2648e04dd596278168f5167fbb",
      "8ce3b01915c84b2babb2858ea5036786",
      "234f273cb637475daf43ee609b694e10",
      "cfb1a606383a45cb8bce98631f228ae5",
      "e8f9ab3e383a4770bd3d61bbcf3695e1",
      "6da1bbadcbc24e828e322e9ab1a05ae3",
      "f8edc5b27d2d4e6c8e9a1ab61fd5c196",
      "9d031eb4370745bf9a75b490f21fec46",
      "fa3176f2a7af4f588850b5b3439d5c39",
      "4c2804ec4e53423a9109e9b6a4127ce8",
      "414f2623f6a4454f9e4953261149374e",
      "64e59a6fadd5411491bf8debc0d62c26",
      "adbe4413157c4edaa8b373bfc6b7f8b1"
     ]
    },
    "id": "GlnVfuoh5_2o",
    "outputId": "63e71de4-6c9b-4e9a-aa42-0a7145118b13"
   },
   "outputs": [],
   "source": [
    "import spacy\n",
    "from tqdm.auto import tqdm\n",
    "tqdm.pandas()\n",
    "\n",
    "data[\"sentence_simple\"] = data[\"sentence\"].progress_apply(remove_comma)\n",
    "\n",
    "data[['sentence_simple', 'focus_changed']] = data['sentence_simple'].progress_apply(sentiment_focus).apply(pd.Series)\n",
    "\n",
    "data['focus_ornot'] = data['focus_changed'].apply(lambda x: 1 if x else 0)\n",
    "\n",
    "data.drop('focus_changed', axis=1, inplace=True)"
   ]
  },
  {
   "cell_type": "code",
   "execution_count": null,
   "metadata": {
    "colab": {
     "base_uri": "https://localhost:8080/",
     "height": 49,
     "referenced_widgets": [
      "2cfdd5c4703240e8bd4ec51df22866ea",
      "54e915c7581c48acaf2b7a921d94b036",
      "3062bf6a964f43c8ab3c76da9d98ab63",
      "b5369b6645e8419c8a3bddeab1a4eea5",
      "5be7e4103ae549f4933925fea88b1ae4",
      "edca0ef51ec246e1a90f8116678ae98d",
      "29fff20612864bcd80a6a24f644c3ced",
      "2f7086a9af004a1587036015d97d79dc",
      "5f2116164169473c94fdebd6c3408514",
      "7bdcab5505a945e89ed8e991765235e8",
      "8d6eb92cd77c4713a84418abc29d7fbc"
     ]
    },
    "id": "ju-C4hnJ8LxQ",
    "outputId": "57fca443-1f7a-4498-a4bf-319f643b6f3d"
   },
   "outputs": [],
   "source": [
    "tqdm.pandas()\n",
    "\n",
    "data['label_new_s'] = data['sentence_simple'].progress_apply(lambda x: finbert(x)[0]['label'])\n"
   ]
  },
  {
   "cell_type": "code",
   "execution_count": null,
   "metadata": {
    "colab": {
     "base_uri": "https://localhost:8080/"
    },
    "id": "ciPExla08gak",
    "outputId": "0ec9c625-c83c-4573-d9af-98d69fddaf17"
   },
   "outputs": [],
   "source": [
    "data['label_new_s'] = data['label_new_s'].replace({'Neutral': 0, 'Positive': 1, 'Negative': 2})\n",
    "(data['label'] == data['label_new_s']).sum() / len(data)"
   ]
  },
  {
   "cell_type": "code",
   "execution_count": null,
   "metadata": {
    "id": "O3fXiUIbkGon"
   },
   "outputs": [],
   "source": [
    "data['label_pre'] = data['label_pre'].replace({'Neutral': 0, 'Positive': 1, 'Negative': 2})"
   ]
  },
  {
   "cell_type": "code",
   "execution_count": null,
   "metadata": {
    "colab": {
     "base_uri": "https://localhost:8080/",
     "height": 206
    },
    "id": "vboDf_AUJqPO",
    "outputId": "52293615-7e0a-410e-d845-6fdfbd73588d"
   },
   "outputs": [],
   "source": [
    "data.head()"
   ]
  },
  {
   "cell_type": "code",
   "execution_count": null,
   "metadata": {
    "id": "w4Htl_pdkj6x"
   },
   "outputs": [],
   "source": [
    "fine_tuned_model = (data['label_pre'] == data['label']).sum() / len(data)"
   ]
  },
  {
   "cell_type": "code",
   "execution_count": null,
   "metadata": {
    "id": "NiS6TtCIJyvl"
   },
   "outputs": [],
   "source": [
    "finbert_acc = (data['label_new'] == data['label']).sum() / len(data)"
   ]
  },
  {
   "cell_type": "code",
   "execution_count": null,
   "metadata": {
    "colab": {
     "base_uri": "https://localhost:8080/",
     "height": 36
    },
    "id": "QMtMtlQxAey-",
    "outputId": "b4a305af-2d34-49a3-f783-2903dacb96fc"
   },
   "outputs": [],
   "source": [
    "\"{:.2%}\".format(finbert_acc)"
   ]
  },
  {
   "cell_type": "code",
   "execution_count": null,
   "metadata": {
    "colab": {
     "base_uri": "https://localhost:8080/",
     "height": 472
    },
    "id": "qH0qDtA2EvSM",
    "outputId": "d8ee81a8-7dfc-4d63-94f5-66d3922b3ee7"
   },
   "outputs": [],
   "source": [
    "data_d = pd.DataFrame({'Model': ['FinBERT', 'Fine-tuned'],\n",
    "                       'Accuracy': [finbert_acc, fine_tuned_model]})\n",
    "\n",
    "ax = sns.barplot(x='Model', y='Accuracy', width=0.3,data=data_d)\n",
    "\n",
    "\n",
    "for i, score in enumerate(data_d['Accuracy']):\n",
    "    plt.annotate(\"{:.2%}\".format(score), (i, score), ha='center', va='bottom')\n",
    "\n",
    "plt.ylim(0, 1) \n",
    "plt.title('Comparison of Finbert and Fine-tuned')\n",
    "plt.xlabel('Model')\n",
    "plt.ylabel('Accuracy')\n",
    "\n",
    "plt.show()\n"
   ]
  },
  {
   "cell_type": "markdown",
   "metadata": {
    "id": "oU5xQ1P_aJNo"
   },
   "source": [
    "## Compare with only changed sentences to manual labeling"
   ]
  },
  {
   "cell_type": "code",
   "execution_count": null,
   "metadata": {
    "id": "cKl2wTSj90N6"
   },
   "outputs": [],
   "source": [
    "data_change = data.loc[data.sentence != data.sentence_simple]\n"
   ]
  },
  {
   "cell_type": "code",
   "execution_count": null,
   "metadata": {
    "colab": {
     "base_uri": "https://localhost:8080/"
    },
    "id": "DWCHxkxr9rre",
    "outputId": "50009a1d-81cd-475b-bcf2-2cd141a4ec95"
   },
   "outputs": [],
   "source": [
    "data_change.info()"
   ]
  },
  {
   "cell_type": "code",
   "execution_count": null,
   "metadata": {
    "id": "MBJ5O50BCxaZ"
   },
   "outputs": [],
   "source": [
    "data_change1 = data.loc[data.label_new != data.label_new_s]\n"
   ]
  },
  {
   "cell_type": "code",
   "execution_count": null,
   "metadata": {
    "id": "d7cy1wJVoIGP"
   },
   "outputs": [],
   "source": [
    "fine_tuned_model_1 = (data_change['label'] == data_change['label_pre']).sum() / len(data_change)"
   ]
  },
  {
   "cell_type": "code",
   "execution_count": null,
   "metadata": {
    "id": "C-qVp9oCoD5y"
   },
   "outputs": [],
   "source": [
    "finbert_1 = (data_change['label'] == data_change['label_new']).sum() / len(data_change)"
   ]
  },
  {
   "cell_type": "code",
   "execution_count": null,
   "metadata": {
    "id": "ZurjBmKaGevz"
   },
   "outputs": [],
   "source": [
    "finbert_sf = (data_change['label'] == data_change['label_new_s']).sum() / len(data_change)"
   ]
  },
  {
   "cell_type": "code",
   "execution_count": null,
   "metadata": {
    "colab": {
     "base_uri": "https://localhost:8080/",
     "height": 206
    },
    "id": "qbilmQ16-NtE",
    "outputId": "bd90fa4e-788d-4c13-a059-7eb9efda9a5e"
   },
   "outputs": [],
   "source": [
    "data_change.head()"
   ]
  },
  {
   "cell_type": "code",
   "execution_count": null,
   "metadata": {
    "colab": {
     "base_uri": "https://localhost:8080/",
     "height": 564
    },
    "id": "B97Dzl_6F_Pu",
    "outputId": "9638c83b-5fb0-4216-d58e-ebf390300be3"
   },
   "outputs": [],
   "source": [
    "data_s = pd.DataFrame({'Model': ['FinBERT', 'Fine-tuned','FinBERT after SF'],\n",
    "                     'Accuracy': [finbert_1, fine_tuned_model_1,finbert_sf]})\n",
    "\n",
    "plt.figure(figsize=(8, 6)) \n",
    "\n",
    "sns.barplot(x='Model', y='Accuracy', width=0.4, data=data_s)\n",
    "\n",
    "bars = ax.patches\n",
    "hatch_pattern = '////'\n",
    "for bar in bars:\n",
    "    bar.set_hatch(hatch_pattern)\n",
    "\n",
    "for i, score in enumerate(data_s['Accuracy']):\n",
    "    plt.annotate(\"{:.2%}\".format(score), (i, score), ha='center', va='bottom')\n",
    "\n",
    "plt.ylim(0, 1) \n",
    "plt.title('Comparison of Finbert and Fine-tuned in only sentiment focus')\n",
    "plt.xlabel('Model')\n",
    "plt.ylabel('Accuracy')\n",
    "\n",
    "plt.show()"
   ]
  },
  {
   "cell_type": "markdown",
   "metadata": {
    "id": "dAjaNOOW-noE"
   },
   "source": [
    "## Performance for sentences contains \"But\""
   ]
  },
  {
   "cell_type": "code",
   "execution_count": null,
   "metadata": {
    "id": "QyV4XlAB9eyq"
   },
   "outputs": [],
   "source": [
    "new_df_but = data_change[data_change['sentence'].str.contains('but')]"
   ]
  },
  {
   "cell_type": "code",
   "execution_count": null,
   "metadata": {
    "colab": {
     "base_uri": "https://localhost:8080/"
    },
    "id": "hZR0aJLHLYmj",
    "outputId": "d868600b-d5d4-44f8-bef2-b9bfd6ee7c85"
   },
   "outputs": [],
   "source": [
    "(new_df_but['label'] == new_df_but['label_pre']).sum() / len(new_df_but)"
   ]
  },
  {
   "cell_type": "code",
   "execution_count": null,
   "metadata": {
    "colab": {
     "base_uri": "https://localhost:8080/"
    },
    "id": "ceFPr9Vn-MW-",
    "outputId": "4e055960-2a70-4590-f560-fa019528233d"
   },
   "outputs": [],
   "source": [
    "(new_df_but['label'] == new_df_but['label_new']).sum() / len(new_df_but)"
   ]
  },
  {
   "cell_type": "code",
   "execution_count": null,
   "metadata": {
    "colab": {
     "base_uri": "https://localhost:8080/"
    },
    "id": "lRDxsf-X-Uof",
    "outputId": "5ff0b944-87ad-476d-beb7-18c56d00a4c9"
   },
   "outputs": [],
   "source": [
    "(new_df_but['label'] == new_df_but['label_new_s']).sum() / len(new_df_but)"
   ]
  },
  {
   "cell_type": "markdown",
   "metadata": {
    "id": "Yi2uDldF-zP3"
   },
   "source": [
    "## Performance for sentences contains \"while\""
   ]
  },
  {
   "cell_type": "code",
   "execution_count": null,
   "metadata": {
    "id": "Pzw14AbT-m0h"
   },
   "outputs": [],
   "source": [
    "new_df_while = data_change[data_change['sentence'].str.contains('while')]"
   ]
  },
  {
   "cell_type": "code",
   "execution_count": null,
   "metadata": {
    "colab": {
     "base_uri": "https://localhost:8080/"
    },
    "id": "s5g3QrwIAtFn",
    "outputId": "1b18500f-6b7d-47f2-f03d-3bd47541a5ea"
   },
   "outputs": [],
   "source": [
    "(new_df_while['label'] == new_df_while['label_pre']).sum() / len(new_df_while)"
   ]
  },
  {
   "cell_type": "code",
   "execution_count": null,
   "metadata": {
    "colab": {
     "base_uri": "https://localhost:8080/"
    },
    "id": "ow2JeEwLAylI",
    "outputId": "5f413e77-fc53-4f32-8945-73676cb483de"
   },
   "outputs": [],
   "source": [
    "(new_df_while['label'] == new_df_while['label_new']).sum() / len(new_df_while)"
   ]
  },
  {
   "cell_type": "code",
   "execution_count": null,
   "metadata": {
    "colab": {
     "base_uri": "https://localhost:8080/"
    },
    "id": "1cz0mGT7A3ca",
    "outputId": "005671ba-fb69-46cf-9333-d02a779e9e6c"
   },
   "outputs": [],
   "source": [
    "(new_df_while['label'] == new_df_while['label_new_s']).sum() / len(new_df_while)"
   ]
  },
  {
   "cell_type": "markdown",
   "metadata": {
    "id": "rwN0XgZDA-Eh"
   },
   "source": [
    "## Performance for sentences contains \"though\""
   ]
  },
  {
   "cell_type": "code",
   "execution_count": null,
   "metadata": {
    "id": "OTI-BuYwBGAx"
   },
   "outputs": [],
   "source": [
    "new_df_though = data_change[data_change['sentence'].str.contains('though')]"
   ]
  },
  {
   "cell_type": "code",
   "execution_count": null,
   "metadata": {
    "colab": {
     "base_uri": "https://localhost:8080/"
    },
    "id": "UPznWk6XBLY7",
    "outputId": "21725897-17e3-456b-f17d-38c450448b52"
   },
   "outputs": [],
   "source": [
    "(new_df_though['label'] == new_df_though['label_pre']).sum() / len(new_df_though)"
   ]
  },
  {
   "cell_type": "code",
   "execution_count": null,
   "metadata": {
    "colab": {
     "base_uri": "https://localhost:8080/"
    },
    "id": "w7LXv-wUBPP6",
    "outputId": "233eeae7-ace1-4ccc-e454-3cc26a06adcb"
   },
   "outputs": [],
   "source": [
    "(new_df_though['label'] == new_df_though['label_new']).sum() / len(new_df_though)"
   ]
  },
  {
   "cell_type": "code",
   "execution_count": null,
   "metadata": {
    "colab": {
     "base_uri": "https://localhost:8080/"
    },
    "id": "IVsFL3QcBTBr",
    "outputId": "fbea3f16-de80-4c5e-b6cf-38fbb1ed12a6"
   },
   "outputs": [],
   "source": [
    "(new_df_though['label'] == new_df_though['label_new_s']).sum() / len(new_df_though)"
   ]
  },
  {
   "cell_type": "code",
   "execution_count": null,
   "metadata": {
    "colab": {
     "base_uri": "https://localhost:8080/",
     "height": 564
    },
    "id": "v_cIoPVPJJjf",
    "outputId": "0db91636-8d1a-4adf-aad8-e06eab4a138e"
   },
   "outputs": [],
   "source": [
    "data1 = [(new_df_but['label'] == new_df_but['label_pre']).sum() / len(new_df_but),(new_df_but['label'] == new_df_but['label_new']).sum() / len(new_df_but)]\n",
    "data2 = [(new_df_while['label'] == new_df_while['label_pre']).sum() / len(new_df_while),(new_df_while['label'] == new_df_while['label_new']).sum() / len(new_df_while)]\n",
    "data3 = [(new_df_though['label'] == new_df_though['label_pre']).sum() / len(new_df_though),(new_df_though['label'] == new_df_though['label_new']).sum() / len(new_df_though)]\n",
    "\n",
    "data = pd.DataFrame({'Category': ['But', 'But', 'While', 'While', 'Though', 'Though'],\n",
    "                     'Group': ['FinBERT', 'Fine-tune','FinBERT', 'Fine-tune','FinBERT', 'Fine-tune'],\n",
    "                     'Accuracy': [data1[1], data1[0], data2[1], data2[0], data3[1], data3[0]]})\n",
    "\n",
    "plt.figure(figsize=(8, 6)) \n",
    "\n",
    "sns.barplot(x='Accuracy', y='Category', hue='Group',width=0.5, data=data)\n",
    "\n",
    "plt.xlim([0, 1.15])\n",
    "\n",
    "plt.title('Comparison of Categories')\n",
    "plt.xlabel('Accuracy')\n",
    "plt.ylabel('Category')\n",
    "\n",
    "plt.show()\n"
   ]
  },
  {
   "cell_type": "markdown",
   "metadata": {
    "id": "pA961w9n22uD"
   },
   "source": [
    "# load model with transformers"
   ]
  },
  {
   "cell_type": "code",
   "execution_count": null,
   "metadata": {
    "colab": {
     "base_uri": "https://localhost:8080/",
     "height": 568,
     "referenced_widgets": [
      "bb14b06585ab4d779be133fcbb914dc8",
      "6c48f4b74f4b47bf94fe151527ff2ec4",
      "e1bea925325d424ca90303d982bd965c",
      "ea18f21acf2c4a6a8ba3fbae14fbe597",
      "ae06f514134c4d0388e27cf95585b2f1",
      "31873e3cb8cb4c1cad3087673f720dd1",
      "c07335bfe6404c20b82e6d83f61fb5eb",
      "bf792d37a08d4a608cda0177b53b4773",
      "d085039a8ec2432280364c3c9f880f8d",
      "1e55cb8820164c8ca11104c1f1e1b903",
      "7965d1ed8ead496093698c613238cd8b",
      "ea6a110862214463b9928530eb548cc5",
      "50950428aa294e3299afd3e452c08eb6",
      "a077c1a7d0ac49248000cf5e08387d6b",
      "5c0d3457eb6341aa99c8036834c26b19",
      "5c0f582133e7465baa6a43bc80c713c4",
      "724f5d9957b049bdb54309c27f64853c",
      "835deb5a02754f5bb6333b00207a5082",
      "79f107a341954cdeaf9d4b0a5662a639",
      "1258410d95be4abeaa74426a390a601c",
      "5aedf6e121e44a6ebebf8f52861448ff",
      "5d2014c184c943e29c3731ae60bc2f40",
      "06b512a5546443fea6b184ec1b3cea25",
      "c696cb2cbc8b4589916ba1244bdcbfe8",
      "0d6e6c93f191415cb911480f1d187b6f",
      "22e2d589b3af49eaa7db4d6c716eff8c",
      "8e7579f577684bb4baee9c7ebde33be6",
      "4462b067d16f42a8abf68d635d1529ed",
      "595f406030a44767acd927973d3086c5",
      "4be8a58853ae4bcca0b5345d72c847a8",
      "43e57836a2c64ce89df0a30665fb0471",
      "a2505d11d4854c62b71c46c178a08ab2",
      "e65bb081f9614c6980f0aa888267904b"
     ]
    },
    "id": "d9RIFFoR2xJ3",
    "outputId": "0f80ccb8-65a4-4b53-dcc8-028f315f18f2"
   },
   "outputs": [],
   "source": [
    "!pip install transformers==4.28.1\n",
    "from transformers import BertTokenizer, BertForSequenceClassification, pipeline\n",
    "\n",
    "finbert = BertForSequenceClassification.from_pretrained('ZiweiChen/FinBERT-FOMC',num_labels=3)\n",
    "tokenizer = BertTokenizer.from_pretrained('ZiweiChen/FinBERT-FOMC')\n",
    "finbert_fomc = pipeline(\"text-classification\", model=finbert, tokenizer=tokenizer)\n"
   ]
  },
  {
   "cell_type": "code",
   "execution_count": null,
   "metadata": {
    "colab": {
     "base_uri": "https://localhost:8080/"
    },
    "id": "SXuH3kTV7eVJ",
    "outputId": "125635f6-aa5f-4638-aeef-273d5ea87a23"
   },
   "outputs": [],
   "source": [
    "finbert_fomc('Spending on cars and light trucks increased somewhat in July after a lackluster pace in the second quarter but apparently weakened in August')"
   ]
  },
  {
   "cell_type": "code",
   "execution_count": null,
   "metadata": {
    "id": "afNwlZ0P3sKm"
   },
   "outputs": [],
   "source": [
    "data = pd.read_csv('https://raw.githubusercontent.com/Incredible88/FinBERT-FOMC/main/data/dataset_label.csv')"
   ]
  },
  {
   "cell_type": "code",
   "execution_count": null,
   "metadata": {
    "colab": {
     "base_uri": "https://localhost:8080/",
     "height": 206
    },
    "id": "vIDJ2CFd49pc",
    "outputId": "c0a75c1a-0f13-43a7-89f9-8a6e78f86252"
   },
   "outputs": [],
   "source": [
    "data = data.iloc[:1375,: ]\n",
    "data.head()"
   ]
  },
  {
   "cell_type": "code",
   "execution_count": null,
   "metadata": {
    "id": "ZjdMu8SH49pd"
   },
   "outputs": [],
   "source": [
    "data = data[['sentence','Ziwei']].rename(columns={'Ziwei': 'label'})"
   ]
  },
  {
   "cell_type": "code",
   "execution_count": null,
   "metadata": {
    "colab": {
     "base_uri": "https://localhost:8080/",
     "height": 423
    },
    "id": "jCNOL5Ry4-ey",
    "outputId": "4b1a01e8-bc79-46ef-af97-b9e4d2599c19"
   },
   "outputs": [],
   "source": [
    "data"
   ]
  },
  {
   "cell_type": "code",
   "execution_count": null,
   "metadata": {
    "colab": {
     "base_uri": "https://localhost:8080/"
    },
    "id": "2ChPeVms4_Bx",
    "outputId": "21fe4c04-bc84-4b34-dd36-cfbe91eba65c"
   },
   "outputs": [],
   "source": [
    "tqdm.pandas()\n",
    "\n",
    "data['label_p'] = data['sentence'].progress_apply(lambda x: finbert_fomc(x)[0]['label'])"
   ]
  },
  {
   "cell_type": "code",
   "execution_count": null,
   "metadata": {
    "id": "2dLI3xde6hmZ"
   },
   "outputs": [],
   "source": [
    "data['label'] = data['label'].replace({'neutral':'Neutral', 'positive':'Positive', 'negative':'Negative'})"
   ]
  },
  {
   "cell_type": "code",
   "execution_count": null,
   "metadata": {
    "colab": {
     "base_uri": "https://localhost:8080/"
    },
    "id": "E0GDE-1V5K7U",
    "outputId": "96902592-5fc6-4d4a-b2cd-4d8f951a27d1"
   },
   "outputs": [],
   "source": [
    "(data['label'] == data['label_p']).sum() / len(data)"
   ]
  }
 ],
 "metadata": {
  "accelerator": "GPU",
  "colab": {
   "authorship_tag": "ABX9TyMqZ/zGiqhRn6CZVwzslpbB",
   "gpuType": "T4",
   "include_colab_link": true,
   "provenance": [],
   "toc_visible": true
  },
  "gpuClass": "standard",
  "kernelspec": {
   "display_name": "CITS3009",
   "language": "python",
   "name": "python3"
  },
  "language_info": {
   "name": "python",
   "version": "3.12.9"
  }
 },
 "nbformat": 4,
 "nbformat_minor": 0
}
